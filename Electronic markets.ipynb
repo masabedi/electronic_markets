{
 "cells": [
  {
   "cell_type": "markdown",
   "metadata": {},
   "source": [
    "**Almgren Chriss algorithm**"
   ]
  },
  {
   "cell_type": "code",
   "execution_count": 8,
   "metadata": {},
   "outputs": [],
   "source": [
    "import numpy as np\n",
    "import pandas as pd\n",
    "import matplotlib.pyplot as plt\n",
    "%matplotlib inline "
   ]
  },
  {
   "cell_type": "code",
   "execution_count": 9,
   "metadata": {},
   "outputs": [],
   "source": [
    "figure2_params = {'X':       10**6,         # shares\n",
    "                  'T':       5,             # days\n",
    "                  'N':       5,\n",
    "                  'sigma':   0.95,          # dollars per share per day sqrt\n",
    "                  'epsilon': 0.0625,        # dollars per share\n",
    "                  'gamma':   2.5*10**(-7),  # dollars per share squared\n",
    "                  'eta':     2.5*10**(-6),  # dollars per day\n",
    "                  'lbda':    2*10**(-6)}"
   ]
  },
  {
   "cell_type": "code",
   "execution_count": 10,
   "metadata": {},
   "outputs": [],
   "source": [
    "def _eta_tilde(eta, gamma, tau):\n",
    "    return eta*(1 - (gamma*tau)/(2*eta))\n",
    "\n",
    "\n",
    "def _kappa_tilde_squared(lbda, sigma, eta_tilde):\n",
    "    return lbda*(sigma**2)/eta_tilde\n",
    "\n",
    "\n",
    "def _kappa(kappa_tilde_squared, tau):\n",
    "    return np.arccosh(kappa_tilde_squared*(tau**2)/2 + 1)/tau\n",
    "\n",
    "\n",
    "def derived_params(eta, gamma, tau, lbda, sigma):\n",
    "    eta_tilde = _eta_tilde(eta, gamma, tau)\n",
    "    kappa_tilde_squared = _kappa_tilde_squared(lbda, sigma, eta_tilde)\n",
    "    kappa = _kappa(kappa_tilde_squared, tau)\n",
    "\n",
    "    return eta_tilde, kappa\n",
    "\n",
    "\n",
    "def almgren_chriss(big_x, big_n, big_t, sigma, lbda, eta, gamma):\n",
    "    tau = big_t/big_n\n",
    "    eta_tilde, kappa = derived_params(eta, gamma, tau, lbda, sigma)\n",
    "\n",
    "    t_j = np.linspace(0, big_t, big_n + 1)\n",
    "    inventory_values = big_x*np.sinh(kappa*(big_t - t_j))/np.sinh(kappa*big_t)\n",
    "\n",
    "    return pd.Series(inventory_values, t_j)"
   ]
  },
  {
   "cell_type": "code",
   "execution_count": 11,
   "metadata": {},
   "outputs": [
    {
     "data": {
      "text/plain": [
       "<matplotlib.axes._subplots.AxesSubplot at 0xce5ff28>"
      ]
     },
     "execution_count": 11,
     "metadata": {},
     "output_type": "execute_result"
    },
    {
     "data": {
      "image/png": "[encoded data removed]",
      "text/plain": [
       "<matplotlib.figure.Figure at 0xce4cb38>"
      ]
     },
     "metadata": {},
     "output_type": "display_data"
    }
   ],
   "source": [
    "big_x = figure2_params['X']\n",
    "big_n = figure2_params['N']\n",
    "big_t = figure2_params['T']\n",
    "sigma = figure2_params['sigma']\n",
    "eta = figure2_params['eta']\n",
    "gamma = figure2_params['gamma']\n",
    "lbda = figure2_params['lbda']\n",
    "\n",
    "trajectory = almgren_chriss(big_x, big_n, big_t, sigma, lbda, eta, gamma)\n",
    "trajectory.plot('line')\n"
   ]
  },
  {
   "cell_type": "markdown",
   "metadata": {},
   "source": [
    "**Optimal Execution Horizon algorithm** \n",
    "\n",
    "Implementation d'un autre algorithme que j'ai trouvé online (peut être intéressant, peut être à jeter), je le laisse la pour le moment"
   ]
  },
  {
   "cell_type": "code",
   "execution_count": 12,
   "metadata": {},
   "outputs": [],
   "source": [
    "# PARAMETERS\n",
    "sigma=1000\n",
    "volSigma=10000\n",
    "S_S=10000\n",
    "zLambda=-1.644853627 #CDF(0.05) from the Std Normal dist\n",
    "vB=0.4\n",
    "phi=0.999\n",
    "m=1000"
   ]
  },
  {
   "cell_type": "code",
   "execution_count": 13,
   "metadata": {},
   "outputs": [],
   "source": [
    "def signum(int):\n",
    "    if(int < 0):return -1\n",
    "    elif(int > 0):return 1\n",
    "    else:return 0"
   ]
  },
  {
   "cell_type": "code",
   "execution_count": 14,
   "metadata": {},
   "outputs": [],
   "source": [
    "def getOI(v,m,phi,vB,sigma,volSigma):\n",
    "    return phi*(float(m-(2*vB-1)*abs(m))/v+2*vB-1)+ (1-phi)*(2*vB-1)"
   ]
  },
  {
   "cell_type": "code",
   "execution_count": 15,
   "metadata": {},
   "outputs": [],
   "source": [
    "def getBounds(m,phi,vB,sigma,volSigma,S_S,zLambda,k=0):\n",
    "    vB_l=float(signum(m)+1)/2-zLambda*sigma*abs(m)**0.5/ float(4*phi*(S_S+abs(m)*k)*volSigma**0.5)\n",
    "    vB_u=float(signum(m)+1)/2+zLambda*sigma*abs(m)**0.5/ float(4*phi*(S_S+abs(m)*k)*volSigma**0.5)\n",
    "    vB_z=(signum(m)*phi/(float(phi)-1)+1)/2.\n",
    "    return vB_l,vB_u,vB_z"
   ]
  },
  {
   "cell_type": "code",
   "execution_count": 16,
   "metadata": {},
   "outputs": [],
   "source": [
    "def minFoot(m,phi,vB,sigma,volSigma,S_S,zLambda,k=0):\n",
    "    \n",
    "    vB_l,vB_u,vB_z=getBounds(m,phi,vB,sigma,volSigma,S_S, zLambda,k)\n",
    "\n",
    " \n",
    "    if (2*vB-1)*abs(m)<m:\n",
    "    \n",
    "        v1=(2*phi*((2*vB-1)*abs(m)-m)*S_S*volSigma**0.5/float(zLambda*sigma))**(2./3)\n",
    "        oi=getOI(v1,m,phi,vB,sigma,volSigma)\n",
    "        if oi>0:\n",
    "            if vB<=vB_u: return v1\n",
    "            if vB>vB_u: return abs(m)\n",
    "    \n",
    "    elif (2*vB-1)*abs(m)>m:\n",
    "        \n",
    "        v2=(2*phi*(m-(2*vB-1)*abs(m))*S_S*volSigma**0.5/float(zLambda*sigma))**(2./3)\n",
    "        oi=getOI(v2,m,phi,vB,sigma,volSigma)\n",
    "        if oi<0:\n",
    "            if vB>=vB_l: return v2\n",
    "            if vB<vB_l: return abs(m)\n",
    "        \n",
    "        \n",
    "    elif (2*vB-1)*abs(m)==m: return abs(m)\n",
    "    \n",
    "    if vB>=vB_z: return phi*(abs(m)-m/float(2*vB-1))\n",
    "    if vB<vB_z: return abs(m)\n",
    "   \n",
    "         \n",
    " "
   ]
  },
  {
   "cell_type": "code",
   "execution_count": 17,
   "metadata": {},
   "outputs": [
    {
     "name": "stdout",
     "output_type": "stream",
     "text": [
      "5994.0\n"
     ]
    }
   ],
   "source": [
    "print (minFoot(m,phi,vB,sigma,volSigma,S_S,zLambda))"
   ]
  },
  {
   "cell_type": "markdown",
   "metadata": {},
   "source": [
    "**Example for getting minute data from the google finance API**"
   ]
  },
  {
   "cell_type": "code",
   "execution_count": 22,
   "metadata": {},
   "outputs": [],
   "source": [
    "import csv\n",
    "import datetime\n",
    "import re\n",
    "\n",
    "import pandas as pd\n",
    "import requests\n",
    "\n",
    "def get_google_finance_intraday(ticker, period=60, days=1):\n",
    "    \"\"\"\n",
    "    Retrieve intraday stock data from Google Finance.\n",
    "    Parameters\n",
    "    ----------\n",
    "    ticker : str\n",
    "        Company ticker symbol.\n",
    "    period : int\n",
    "        Interval between stock values in seconds.\n",
    "    days : int\n",
    "        Number of days of data to retrieve.\n",
    "    Returns\n",
    "    -------\n",
    "    df : pandas.DataFrame\n",
    "        DataFrame containing the opening price, high price, low price,\n",
    "        closing price, and volume. The index contains the times associated with\n",
    "        the retrieved price values.\n",
    "    \"\"\"\n",
    "\n",
    "    uri = 'http://www.google.com/finance/getprices' \\\n",
    "          '?i={period}&p={days}d&f=d,o,h,l,c,v&df=cpct&q={ticker}'.format(ticker=ticker,\n",
    "                                                                          period=period,\n",
    "                                                                          days=days)\n",
    "    page = requests.get(uri)\n",
    "    reader = csv.reader(page.content.splitlines())\n",
    "    columns = ['Open', 'High', 'Low', 'Close', 'Volume']\n",
    "    rows = []\n",
    "    times = []\n",
    "    for row in reader:\n",
    "        if re.match('^[a\\d]', row[0]):\n",
    "            if row[0].startswith('a'):\n",
    "                start = datetime.datetime.fromtimestamp(int(row[0][1:]))\n",
    "                times.append(start)\n",
    "            else:\n",
    "                times.append(start+datetime.timedelta(seconds=period*int(row[0])))\n",
    "            rows.append(map(float, row[1:]))\n",
    "    if len(rows):\n",
    "        return pd.DataFrame(rows, index=pd.DatetimeIndex(times, name='Date'),\n",
    "                            columns=columns)\n",
    "    else:\n",
    "        return pd.DataFrame(rows, index=pd.DatetimeIndex(times, name='Date'))"
   ]
  },
  {
   "cell_type": "code",
   "execution_count": 29,
   "metadata": {
    "scrolled": true
   },
   "outputs": [
    {
     "data": {
      "text/html": [
       "<div>\n",
       "<style scoped>\n",
       "    .dataframe tbody tr th:only-of-type {\n",
       "        vertical-align: middle;\n",
       "    }\n",
       "\n",
       "    .dataframe tbody tr th {\n",
       "        vertical-align: top;\n",
       "    }\n",
       "\n",
       "    .dataframe thead th {\n",
       "        text-align: right;\n",
       "    }\n",
       "</style>\n",
       "<table border=\"1\" class=\"dataframe\">\n",
       "  <thead>\n",
       "    <tr style=\"text-align: right;\">\n",
       "      <th></th>\n",
       "      <th>Open</th>\n",
       "      <th>High</th>\n",
       "      <th>Low</th>\n",
       "      <th>Close</th>\n",
       "      <th>Volume</th>\n",
       "      <th>VWAP</th>\n",
       "    </tr>\n",
       "    <tr>\n",
       "      <th>Date</th>\n",
       "      <th></th>\n",
       "      <th></th>\n",
       "      <th></th>\n",
       "      <th></th>\n",
       "      <th></th>\n",
       "      <th></th>\n",
       "    </tr>\n",
       "  </thead>\n",
       "  <tbody>\n",
       "    <tr>\n",
       "      <th>2018-04-04 15:30:00</th>\n",
       "      <td>164.900</td>\n",
       "      <td>164.9350</td>\n",
       "      <td>164.77</td>\n",
       "      <td>164.88</td>\n",
       "      <td>449764.0</td>\n",
       "      <td>164.852500</td>\n",
       "    </tr>\n",
       "    <tr>\n",
       "      <th>2018-04-04 15:31:00</th>\n",
       "      <td>165.255</td>\n",
       "      <td>165.3672</td>\n",
       "      <td>164.82</td>\n",
       "      <td>164.86</td>\n",
       "      <td>417756.0</td>\n",
       "      <td>164.968602</td>\n",
       "    </tr>\n",
       "    <tr>\n",
       "      <th>2018-04-04 15:32:00</th>\n",
       "      <td>165.740</td>\n",
       "      <td>165.8000</td>\n",
       "      <td>165.23</td>\n",
       "      <td>165.25</td>\n",
       "      <td>188968.0</td>\n",
       "      <td>165.066333</td>\n",
       "    </tr>\n",
       "    <tr>\n",
       "      <th>2018-04-04 15:33:00</th>\n",
       "      <td>166.070</td>\n",
       "      <td>166.2400</td>\n",
       "      <td>165.68</td>\n",
       "      <td>165.74</td>\n",
       "      <td>184444.0</td>\n",
       "      <td>165.199162</td>\n",
       "    </tr>\n",
       "    <tr>\n",
       "      <th>2018-04-04 15:34:00</th>\n",
       "      <td>166.050</td>\n",
       "      <td>166.2890</td>\n",
       "      <td>165.96</td>\n",
       "      <td>166.07</td>\n",
       "      <td>152434.0</td>\n",
       "      <td>165.300394</td>\n",
       "    </tr>\n",
       "  </tbody>\n",
       "</table>\n",
       "</div>"
      ],
      "text/plain": [
       "                        Open      High     Low   Close    Volume        VWAP\n",
       "Date                                                                        \n",
       "2018-04-04 15:30:00  164.900  164.9350  164.77  164.88  449764.0  164.852500\n",
       "2018-04-04 15:31:00  165.255  165.3672  164.82  164.86  417756.0  164.968602\n",
       "2018-04-04 15:32:00  165.740  165.8000  165.23  165.25  188968.0  165.066333\n",
       "2018-04-04 15:33:00  166.070  166.2400  165.68  165.74  184444.0  165.199162\n",
       "2018-04-04 15:34:00  166.050  166.2890  165.96  166.07  152434.0  165.300394"
      ]
     },
     "execution_count": 29,
     "metadata": {},
     "output_type": "execute_result"
    }
   ],
   "source": [
    "f=get_google_finance_intraday('AAPL',5, 3)\n",
    "f[\"VWAP\"]=(f.Volume*(f.High+f.Low)/2).cumsum() / f.Volume.cumsum()\n",
    "f.head()"
   ]
  }
 ],
 "metadata": {
  "kernelspec": {
   "display_name": "Python 2",
   "language": "python",
   "name": "python2"
  },
  "language_info": {
   "codemirror_mode": {
    "name": "ipython",
    "version": 2
   },
   "file_extension": ".py",
   "mimetype": "text/x-python",
   "name": "python",
   "nbconvert_exporter": "python",
   "pygments_lexer": "ipython2",
   "version": "2.7.14"
  }
 },
 "nbformat": 4,
 "nbformat_minor": 2
}
