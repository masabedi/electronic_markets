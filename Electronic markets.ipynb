{
 "cells": [
  {
   "cell_type": "markdown",
   "metadata": {},
   "source": [
    "# Statement of the problem\n",
    "\n",
    "Given a model for the evolution of the stock price, we would\n",
    "like to find an **optimal strategy** for trading stock, the strategy\n",
    "that **minimizes some cost function** over all permissible strategies.\n",
    "\n",
    "We will **focus on the case of stock liquidation** where the initial position $x_0=X$ and the final position $x_T=0$.  \n",
    "\n",
    "A **static** strategy is one determined in advance of trading while a **dynamic** strategy is one that depends on the state of the market during execution of the order. For instance, **delta-hedging** is an example of a dynamic strategy and **VWAP** is an example of a static strategy."
   ]
  },
  {
   "cell_type": "markdown",
   "metadata": {},
   "source": [
    "# I. The mathematics behind the problem"
   ]
  },
  {
   "cell_type": "markdown",
   "metadata": {},
   "source": [
    "Let's first begin with the **Euler-Lagrange equation**\n",
    "\n",
    "We define a trading trajectory to be a list $x_0, …, x_n$ where $x_k$ is the number of\n",
    "units that we plan to hold at time $𝑡_k$ is. Our initial holding is $x_0 = X$, and\n",
    "liquidation at time $T$ requires $x_n = 0$. We can extend this definition to a continuous $x_t$.\n",
    "\n",
    "Suppose that the strategy $x_t$ minimizes the cost functional\n",
    "\n",
    "$$\\mathcal{C} [x,\\dot x]=\\int_0^T\\,L(t,x_t,\\dot x_t)\\,dt$$ \n",
    "\n",
    "with boundary conditions $x_0=0$, $x_T=X$ (assume we are acquiring $X$ shares). \n",
    "\n",
    "Let $\\eta$ be a perturbation with $\\eta(0)=\\eta(T)=0$.\n",
    "The first order criterion for optimal strategy is:\n",
    "\n",
    "$$\\left.\\frac{d}{d\\epsilon}\\right|_{\\epsilon=0}C[x+\\epsilon\\,\\eta,\\dot x + \\epsilon\\,\\dot \\eta]=0.$$\n",
    "\n",
    "\n",
    "Computing this derivative without the explicit dependence on\n",
    "$t$ gives us,\n",
    "\n",
    "\\begin{eqnarray*}\n",
    "\\left.\\frac{d}{d\\epsilon}\\right|_{\\epsilon=0}C &=& \\int_0^T\\,\\left\\{\\frac{\\partial L}{\\partial x}\\,\\eta+\\frac{\\partial L}{\\partial\\dot x}\\,\\dot \\eta\\right\\}\\,dt \\\\\n",
    "&=& \\int_0^T\\,\\left\\{\\frac{\\partial L}{\\partial x}\\,\\eta - \\int_0^T \\frac{d}{dt}\\frac{\\partial L}{\\partial\\dot x}\\,\\dot \\eta\\right\\}\\,dt + \\left.\\frac{\\partial L}{\\partial\\dot x}\\,\\eta\\right|_{t=0}^T  \\quad (\\mbox{by applying integration by parts}) \\\\\n",
    "&=& \\int_0^T\\,\\left\\{\\frac{\\partial L}{\\partial x}-\\frac{\\partial}{\\partial t}\\frac{\\partial L}{\\partial\\dot x}\\right\\}\\,\\eta\\,dt \\quad (\\mbox{since } \\eta(0) = \\eta(T) = 0)\n",
    "\\end{eqnarray*}\n",
    "\n",
    "Since, this must hold for any perturbation $\\eta$ with\n",
    "$\\eta(0)=\\eta(T)=0$, we deduce from **the fundamental lemma of calculus of variations**\n",
    "\n",
    "\n",
    "\n",
    "The Euler-Lagrange equation is thus:\n",
    "\n",
    "$$\\frac{\\partial}{\\partial t}\\,\\left(\\frac{\\partial L}{\\partial {\\dot x} }\\right)-\\frac{\\partial L}{\\partial {x} }=0$$\n"
   ]
  },
  {
   "cell_type": "markdown",
   "metadata": {},
   "source": [
    "### Stochastic control problem\n",
    "\n",
    "A stochastic control problem is a *control problem* which aims to minimize certain expected costs among all admissible controls. \n",
    "\n",
    "We have the following notations: \n",
    "\n",
    "* $g$ is the *terminal cost* \n",
    "\n",
    "* $h$ is the *running cost*\n",
    "\n",
    "* the state variable $X^{(v)}_t$ is driven by the controlled SDE\n",
    "\n",
    "    $$\n",
    "      dX^{(v)}_t = \\mu( t,X^{(v)}_t, v_t) dt + \\sigma(t,X^{(v)}_t, v_t) dW_t.\n",
    "    $$\n",
    "    \n",
    "* $\\mu( t,X^{(v)}_t, v_t) $ is the drift of our variable\n",
    "\n",
    "* $\\sigma(t,X^{(v)}_t, v_t)$ is the volatility of our state variable\n",
    "\n",
    "* $\\mathcal G[0,T]$ is the collection of admissible controls in the time interval $[0,T]$ \n",
    "\n",
    "\n",
    "We have the following **Stochastic Control Problem**\n",
    "$$\n",
    "  \\max_{v\\in\\mathcal G[0,T]} \\mathbb E \\left[g(X^{(v)}_T) + \\int_0^T h(s,X^{(v)}_s,v_s) ds \\right]\n",
    "$$"
   ]
  },
  {
   "cell_type": "markdown",
   "metadata": {},
   "source": [
    "### Value function \n",
    "\n",
    "* For a given admissible control $v\\in\\mathcal G[t,T]$, we define the **expected objective functional** $J^{(v)}$ as\n",
    "    \n",
    "    $$\n",
    "      J^{(v)}(t,x) = \\mathbb E\\left[\\left. g(X^{(v)}_T) + \\int_0^T h(s,X^{(v)}_s,v_s) ds \\right| X_t = x \\right].\n",
    "    $$\n",
    "\n",
    "\n",
    "* The **value function** $J(t,x)$ for a stochastic control problem is defined as\n",
    "\n",
    "    $$\n",
    "      J(t,x) = \\max_{v\\in\\mathcal G[t,T]} J^{(v)}(t,x).\n",
    "    $$\n",
    "\n",
    "\n",
    "* The value function $J(t,x)$ is the **optimal value of the control problem** conditioned on the process starting at $(t,x)$ and applying the optimal control thereafter."
   ]
  },
  {
   "cell_type": "markdown",
   "metadata": {},
   "source": [
    "### Bellman’s principle of optimality\n",
    "\n",
    "**Principle of optimality** :“An optimal policy has the property that whatever the initial state and\n",
    "initial decision are, the remaining decisions must constitute an optimal\n",
    "policy with regard to the state resulting from the first decision.”\n",
    "\n",
    "The Bellman's principle can be rephrased in terms of value function as follow. For any $0 < \\epsilon < T -t$,\n",
    "\n",
    "$$\n",
    "J(t,x) = \\max_{v\\in\\mathcal G[t,t+\\epsilon]} \\mathbb E\\left[\\left. \\int_t^{t+\\epsilon} h(s,X^{(v)}_s,v_s) ds + J(t+\\epsilon,X^{(v)}_{t+\\epsilon}) \\right| \\mathcal F_t \\right].\n",
    "$$"
   ]
  },
  {
   "cell_type": "markdown",
   "metadata": {},
   "source": [
    "### The Hamilton-Jacobi-Bellman (HJB) equation\n",
    "\n",
    "The value function $J$ satisfies the terminal value problem\n",
    "\n",
    "$$\n",
    "\\partial_t J(t,x) + \\max_{v\\in\\mathcal G[t]} \\{\\mathcal L^{(v)} J(t,x) + h(t,x,v) \\} = 0, \\mbox{ for } t < T\n",
    "$$\n",
    "\n",
    "with terminal condition\n",
    "\n",
    "$$\n",
    "  J(T,x) = g(x),\n",
    "$$\n",
    "\n",
    "where $\\mathcal L^{(v)} := \\frac{\\sigma^2}2 \\partial_x^2 + \\mu \\partial_x$ is the associated infinitesimal generator of the controlled process \n",
    "\n",
    "$$\n",
    "dX^{(v)}_t = \\mu( t,X^{(v)}_t, v_t) dt + \\sigma(t,X^{(v)}_t, v_t) dW_t.\n",
    "$$\n",
    "\n",
    "\n",
    "\n",
    "* The HJB equation is an infinitesimal version of the Bellman's principle. \n",
    "\n",
    "* The optimal control is given implicitly in terms of the value function $J$.\n"
   ]
  },
  {
   "cell_type": "markdown",
   "metadata": {},
   "source": [
    "### Differences between a deterministic and a stochastic optimal control\n",
    "\n",
    "-   In **deterministic** optimal control, the evolution\n",
    "    of the state vector is deterministic.\n",
    "\n",
    "-   In **stochastic** optimal control, the evolution of\n",
    "    the state vector is stochastic."
   ]
  },
  {
   "cell_type": "markdown",
   "metadata": {},
   "source": [
    "# II. Almgren and Chriss"
   ]
  },
  {
   "cell_type": "markdown",
   "metadata": {},
   "source": [
    "Almgren and Chriss' paper treats the execution of a trade order as a **tradeoff between risk and execution cost**.\n",
    "\n",
    "-   *The faster an order is executed, the higher the execution cost*\n",
    "\n",
    "-   *The faster an order is executed, the lower the risk (which is increasing in position size).*\n",
    "\n",
    "\n",
    "For simplicity, we consider liquidation of an existing position $X$, but we could also consider the creation of a new position.\n",
    "\n",
    "We denote the position at time $t$ by $x_t$ with $x_0=X$ and $x_T=0$ (initial boundary conditions).\n",
    "\n",
    "Almgren and Chriss's paper models **market impact** and **slippage** (the difference between the expected price of a trade and the price at which the trade is actually executed) as follows. \n",
    "\n",
    "The stock price $S_t$ is described by the following equation: \n",
    "\n",
    "$$dS_t=\\gamma\\,dx_t+\\sigma\\,dZ_t$$\n",
    "\n",
    "and we note the price at which transactions occur $\\tilde S_t$ that is given by\n",
    "\n",
    "$$\\tilde S_t = S_t - \\eta\\,v_t$$\n",
    "\n",
    "where $v_t:=-{\\dot x}_t$ is the speed at which we are trading."
   ]
  },
  {
   "cell_type": "markdown",
   "metadata": {},
   "source": [
    "### P&L and cost of trading of a trading strategy\n",
    "\n",
    "Let $x_t$ be a trading strategy. The corresponding P&L (up to time $t$), denoted by $\\Pi_t(x)$, is identified as \n",
    "\n",
    "$$\n",
    "\\Pi_t(x) := x_t (S_t - S_0) + \\int_0^t (S_0 - \\tilde S_\\tau) d x_\\tau.\n",
    "$$\n",
    "\n",
    "- The first term represents the potential cost of shares that are yet to be transacted.\n",
    "\n",
    "- The second term corresponds to the monetary value from the shares that have been transacted up to time $t$.\n",
    "\n",
    "- Obviously, should there be no trade in the time interval $[0,t]$, i.e., $x_s = X$ for all $s \\in [0,t]$, the P&L reads $\\Pi_t(x) = X (S_t - S_0)$; reflecting the P&L from the price movement of the stock.\n",
    "\n",
    "#### <font color=blue>Implementation shortfall as cost of trading </font>\n",
    "\n",
    "Negative P&L is also referred to as the *implementation shortfall*, which will be used as the cost of trading, denoted by $C$ hereafter.\n",
    "\n"
   ]
  },
  {
   "cell_type": "markdown",
   "metadata": {},
   "source": [
    "### P&L in Almgren-Chriss model\n",
    "\n",
    "Note that, at the end of execution period $T$, the P&L reads\n",
    "$$\n",
    "  \\Pi_T(x) = x_T (S_T - S_0) + \\int_0^T (S_0 - \\tilde S_u) d x_u,\n",
    "$$\n",
    "should there be $x_T$ shares yet to be transacted. Hence, in Almgren-Chriss model \n",
    "\n",
    "\\begin{eqnarray*}\n",
    "\\Pi_T(x) &=& x_T (S_T - S_0) + \\int_0^T (S_0 - \\tilde S_u) d x_u \\\\\n",
    "&=& \\int_0^T [- \\gamma (x_u - X) - \\sigma W_u + \\eta v_u] d x_u \\quad (\\mbox{note that } x_T = 0) \\\\\n",
    "&=& -\\frac\\gamma2 X^2 + \\sigma \\int_0^T x_u d W_u - \\eta \\int_0^T v_u^2 du \\quad (\\mbox{Integration by parts}).\n",
    "\\end{eqnarray*}\n",
    "Therefore, the expected cost corresponding to the trading strategy $x$ is given by  \n",
    "\\begin{eqnarray*}\n",
    "&& \\mathbb E\\left[C_T(x)\\right] = \\frac\\gamma2 X^2 + \\eta \\int_0^T \\mathbb E [v_u^2] du.\n",
    "\\end{eqnarray*}"
   ]
  },
  {
   "cell_type": "markdown",
   "metadata": {},
   "source": [
    "### An observation from Predoiu, Shaikhet and Shreve\n",
    "\n",
    "Suppose the cost associated with a strategy depends on the stock price\n",
    "only through the term \n",
    "\n",
    "$$\\int_0^T\\,S_t\\,dx_t.$$\n",
    "\n",
    "with $S_t$ a martingale.\n",
    "Integration by parts gives\n",
    "\n",
    "$$\\mathbb{E} \\left[\\int_0^T\\,S_t\\,dx_t\\right]=\\mathbb{E} \\left[S_T\\,x_T-S_0\\,x_0-\\int_0^T\\,x_t\\,dS_t\\right]=-S_0\\,X$$\n",
    "\n",
    "which is independent of the trading strategy and we may proceed as if\n",
    "$S_t=0$.\n",
    "\n"
   ]
  },
  {
   "cell_type": "markdown",
   "metadata": {},
   "source": [
    "### Corollary\n",
    "\n",
    "-   <span>This observation enables us to easily determine whether or not\n",
    "    a statically optimal strategy will be dynamically optimal.</span>\n",
    "\n",
    "    -   <span>In particular, if the price process is of the form\n",
    "        $$S_t=S_0+\\text{ impact of prior trading} +\\text {noise},$$ and\n",
    "        if there is no risk term, a statically optimal strategy will be\n",
    "        dynamically optimal.</span>\n",
    "\n",
    "    -   <span>If there is a risk term independent of the current stock\n",
    "        price, a statically optimal strategy will again be dynamically\n",
    "        optimal.</span>\n",
    "\n"
   ]
  },
  {
   "cell_type": "markdown",
   "metadata": {},
   "source": [
    "### Expected cost of VWAP in the Almgren and Chriss model\n",
    "\n",
    "For a VWAP, $v_t=X/T$ where $X$ is the total trade size and $T$ is the\n",
    "duration of the order.\n",
    "\n",
    "\\begin{eqnarray*}\n",
    "\\mathbb E[C_T(x)] &=& \\mathbb E\\left[\\frac\\gamma2 X^2 - \\sigma \\int_0^T x_u d W_u + \\eta \\int_0^T \\left(\\frac XT\\right)^2 du \\right] \\\\\n",
    "&=& \\frac\\gamma2 X^2 + \\eta \\frac{X^2}T \\\\\n",
    "&=& \\left(\\frac\\gamma2 + \\frac\\eta{T}\\right)X^2.\n",
    "\\end{eqnarray*}\n",
    "\n",
    "The cost per share of executing an order using VWAP is therefore\n",
    "\n",
    "$$\\hat{C}=\\left(\\frac\\gamma2 + \\frac\\eta{T}\\right)X$$\n",
    "\n",
    "which is linear in the trade\n",
    "size $X$ and inversely proportional to the duration of the order."
   ]
  },
  {
   "cell_type": "markdown",
   "metadata": {},
   "source": [
    "### The optimal strategy of a risk neutral trader\n",
    "\n",
    "For a risk neutral trader whose objective is to minimize his total cost, the optimal control problem reads \n",
    "\n",
    "\\begin{eqnarray*}\n",
    "&& \\min_{v} \\mathbb E\\left[C_T(x)\\right] \\\\\n",
    "&=& \\min_{v} \\left\\{\\frac\\gamma2 X^2 + \\eta \\int_0^T \\mathbb E[v_u^2] du \\right\\} \\\\\n",
    "&=& \\frac\\gamma2 X^2 + \\eta \\min_v \\int_0^T \\mathbb E[v_u^2] du,\n",
    "\\end{eqnarray*}\n",
    "\n",
    "where the state variable $x_t$ is driven by $dx_t = -v_t dt$ with the constraints $x_0 = X$ and $x_T = 0$.   \n",
    "Note that, since $S_t$ is not involved in the last expression, we end up with a deterministic control problem which can be solved by the solution to its assocated HJB equation or, due to the simplicity of the dynamics of $x_t$, further reduced to a variational problem. "
   ]
  },
  {
   "cell_type": "markdown",
   "metadata": {},
   "source": [
    "### Variational problem \n",
    "\n",
    "$$\\min_v \\int_0^T\\,v_t^2\\,dt$$\n",
    "\n",
    "with $v_t=-\\dot x_t$ and $x_0 = X$, $x_T = 0$. \n",
    "\n",
    "The Euler-Lagrange equation is then\n",
    "\n",
    "$$\\partial_t v_t=-\\partial_{t,t} x_t=0$$\n",
    "\n",
    "with boundary conditions\n",
    "$x_0=X$ and $x_T=0$ and the solution is obviously\n",
    "\n",
    "$$v_t=\\frac{X}{T};\\, x_t=X\\,\\left(1-\\frac{t}{T}\\right)$$"
   ]
  },
  {
   "cell_type": "markdown",
   "metadata": {},
   "source": [
    "### Adding a risk term\n",
    "\n",
    "Almgren and Chriss add a risk term that penalizes the approximate variance\n",
    "of the trading cost. They claim \n",
    "\n",
    "$$Var \\left[\\int_0^T\\,x_t\\,dS_t\\right] \\approx \\sigma^2\\,\\int_0^T\\,x_t^2\\,dt$$\n",
    "\n",
    "In fact, by It&ocirc;'s isometry, it is an equality if $x_t$ is deterministic. \n",
    "\n",
    "The expected risk-adjusted cost is then given by (temporarily ignore the path independent term $\\frac\\gamma2 X^2$)\n",
    "\n",
    "$$\\eta\\,\\int_0^T\\,{\\dot x}_t^2\\,dt + \\lambda\\,\\sigma^2\\,\\int_0^T\\,x_t^2\\,dt$$\n",
    "\n",
    "for some price of risk $\\lambda$.\n",
    "\n",
    "-   <span>Note the analogies to physics and portfolio theory.</span>\n",
    "\n",
    "    -   <span>The first term looks like kinetic energy and the second\n",
    "        term like potential energy.</span>\n",
    "\n",
    "    -   <span>The expression looks like the objective in mean-variance\n",
    "        portfolio optimization.</span>"
   ]
  },
  {
   "cell_type": "markdown",
   "metadata": {},
   "source": [
    "The Euler-Lagrange equation becomes $$\\ddot x- \\kappa^2\\,x=0$$ with\n",
    "$$\\kappa^2=\\frac{\\lambda\\,\\sigma^2}{\\eta}$$ The solution is a linear\n",
    "combination of terms of the form $e^{\\pm \\kappa t}$ that satisfies the\n",
    "boundary conditions $x_0=X$, $x_T=0$. The solution is then\n",
    "\n",
    "<font color=\"red\">\n",
    "<span>Almgren-Chriss optimal strategy</span>\n",
    "\n",
    "\n",
    "$$x(t)=X\\,\\frac{\\sinh \\kappa (T-t)}{\\sinh \\kappa T}$$\n",
    "\n",
    "\n",
    "\n",
    "<font color=\"black\">\n",
    "Once again, this statically optimal solution is dynamically optimal."
   ]
  },
  {
   "cell_type": "markdown",
   "metadata": {},
   "source": [
    "### Deterministic control problem\n",
    "\n",
    "The problem of minimizing expected risk-adjusted cost can be recast as the following deterministic (since $S_t$ is not involved) control problem \n",
    "\n",
    "$$\\min_v \\left\\{\\eta\\,\\int_0^T\\,{\\dot x}_t^2\\,dt + \\lambda\\,\\sigma^2\\,\\int_0^T\\,x_t^2\\,dt \\right\\}$$\n",
    "\n",
    "with state vairable $x_t$ driven by $dx_t = -v_t dt$ and $x_0 = X$. Similar to the stochastic case, the value function $J$ is defined by\n",
    "\n",
    "$$\n",
    "J(t,x) = \\min_{v\\in\\mathcal G[t,T]} \\left\\{\\eta\\,\\int_t^T\\,{\\dot x}_t^2\\,dt + \\lambda\\,\\sigma^2\\,\\int_t^T\\,x_t^2\\,dt \\right\\}\n",
    "$$\n",
    "\n",
    "with $x_t = x$."
   ]
  },
  {
   "cell_type": "markdown",
   "metadata": {},
   "source": [
    "### The HJB equation\n",
    "\n",
    "The HJB equation reads\n",
    "\n",
    "\n",
    "$$\\frac{\\partial J}{\\partial t} + \\lambda\\,\\sigma^2\\,x^2 + \\min_{v \\in \\mathcal{G}}\\left\\{-v J_x + \\eta\\,v^2\\right\\}=0.$$\n",
    "\n",
    "The optimal choice of $v$ is $$v^* = \\frac{J_x}{2\\eta}.$$\n",
    "Substituting back int the HJB equation, we have \n",
    "\n",
    "\n",
    "$$\\frac{\\partial J}{\\partial t} + \\lambda \\sigma^2 x^2 - \\frac{J_x^2}{4\\eta} = 0$$\n",
    "\n",
    "which we solve by imposing  $J(t,x) = a(t) x^2$.\n",
    "\n",
    "#### Remark\n",
    "To take into account the terminal condition that $x_T = 0$, we set the terminal condition for the HJB equation as \n",
    "\n",
    "$$\\lim_{t\\uparrow T}J(t,x)=\\begin{cases}0&\\text{if $x=0$,}\\\\\n",
    "+\\infty&\\text{if $x\\neq0$.}\n",
    "\\end{cases}$$"
   ]
  },
  {
   "cell_type": "markdown",
   "metadata": {},
   "source": [
    "### Solution to HJB equation \n",
    "\n",
    "By substituting $J(t,x) = a(t)x^2$ into the HJB equation, we obtain \n",
    "\n",
    "$$\n",
    "a' x^2 + \\lambda \\sigma^2 x^2 - \\frac{(2ax)^2}{4\\eta} = 0. \n",
    "$$\n",
    "\n",
    "Setting the coefficient of $x^2$ equal to zero yields the ODE for $a$:\n",
    "\n",
    "$$\n",
    "a' + \\lambda \\sigma^2 - \\frac{a^2}\\eta = 0.\n",
    "$$\n",
    "\n",
    "Taking into account the terminal condition, we obtain the unique solution for $a$ as\n",
    "\n",
    "$$\n",
    "a(t) = \\kappa \\eta \\coth(\\kappa(T-t)).\n",
    "$$"
   ]
  },
  {
   "cell_type": "markdown",
   "metadata": {},
   "source": [
    "### Optimal strategy\n",
    "\n",
    "The optimal trading rate $v^*$ is obtained via the value function $J$ as\n",
    "\n",
    "$$\n",
    "v_t^* = \\frac{J_x}{2\\eta} = \\frac{a(t)}{\\eta} x^*_t = \\kappa \\coth(\\kappa(T-t)) x_t^*.\n",
    "$$\n",
    "\n",
    "Finally, recall that $v_t = -\\dot x_t$, by solving the ODE \n",
    "\n",
    "$$\n",
    "-\\dot x_t = \\kappa \\coth(\\kappa(T-t)) x_t\n",
    "$$\n",
    "\n",
    "with initial conditional $x_0 = X$, we obtain the Almgren-Chriss solution \n",
    "\n",
    "$$\n",
    "x_t^* = X \\frac{\\sinh \\kappa (T-t)}{\\sinh \\kappa T}.\n",
    "$$"
   ]
  },
  {
   "cell_type": "markdown",
   "metadata": {},
   "source": [
    "### What happens if we change the risk term?\n",
    "\n",
    "Suppose we penalize average VaR instead of variance. This choice of risk\n",
    "term has the particular benefit of being linear in the position size.\n",
    "The expected risk-adjusted cost is then given by\n",
    "\n",
    "$$C = \\eta\\,\\int_0^T\\,{\\dot x}_t^2\\,dt + \\lambda\\,\\sigma\\,\\int_0^T\\,x_t\\,dt$$\n",
    "\n",
    "for some price of risk $\\lambda$.\n",
    "\n",
    "The Euler-Lagrange equation becomes \n",
    "\n",
    "$$\\ddot x- A=0$$\n",
    "\n",
    "with\n",
    "\n",
    "$$A=\\frac{\\lambda\\,\\sigma}{2\\,\\eta}$$\n",
    "\n",
    "The solution is a quadratic of the form $A\\,t^2/2+B \\,t + C$ that\n",
    "satisfies the boundary conditions $x_0=X$, $x_T=0$. The solution is then\n",
    "\n",
    "\n",
    "$$x(t)=\\left(X-\\frac{A \\, T}{2}\\,t\\right)\\,\\left(1-\\frac{t}{T}\\right)$$\n",
    "\n",
    "In contrast to the previous case where the cost function is monotonic\n",
    "decreasing in the trading rate and the optimal choice of liquidation\n",
    "time is $\\infty$, in this case, we can compute an optimal liquidation\n",
    "time.\n",
    "\n",
    "When $T$ is optimal, we have\n",
    "$$\\frac{\\partial C}{\\partial T}\\propto {\\dot x}_T^2 + A\\,x_T=0$$ from\n",
    "which we deduce that $\\dot x_T=0$.\n",
    "\n",
    "Substituting and solving for the optimal time\n",
    "$T^\\star$ gives $$T^\\star=\\sqrt{\\frac{2\\,X}{A}}$$\n",
    "\n",
    "With this optimal choice $T=T^\\star$, the optimal strategy becomes\n",
    "\n",
    "\\begin{eqnarray*}\n",
    "x(t)&=&X\\,\\left(1-\\frac{t}{T}\\right)^2\\\\\n",
    "u(t)&=&-\\dot x(t)=2\\,X\\,\\left(1-\\frac{t}{T}\\right)\\end{eqnarray*}\n",
    "\n",
    "Again, the static strategy is dynamically optimal, independent of the\n",
    "stock price."
   ]
  },
  {
   "cell_type": "markdown",
   "metadata": {},
   "source": [
    "### ABM vs GBM\n",
    "\n",
    "-   One of the reasons that the statically optimal strategy is\n",
    "    dynamically optimal is that the stock price process is assumed to be\n",
    "    arithmetic Brownian motion (ABM).\n",
    "\n",
    "-   If for example geometric Brownian motion (GBM) is assumed, the\n",
    "    optimal strategy depends on the stock price.\n",
    "    \n",
    "   \n",
    "\n",
    "-   How dependent is the optimal strategy on dynamical assumptions for\n",
    "    the underlying stock price process?\n"
   ]
  },
  {
   "cell_type": "code",
   "execution_count": null,
   "metadata": {},
   "outputs": [],
   "source": []
  },
  {
   "cell_type": "code",
   "execution_count": null,
   "metadata": {},
   "outputs": [],
   "source": []
  },
  {
   "cell_type": "code",
   "execution_count": null,
   "metadata": {},
   "outputs": [],
   "source": []
  },
  {
   "cell_type": "markdown",
   "metadata": {},
   "source": [
    "**Almgren Chriss algorithm**"
   ]
  },
  {
   "cell_type": "code",
   "execution_count": 10,
   "metadata": {},
   "outputs": [],
   "source": [
    "import numpy as np\n",
    "import pandas as pd\n",
    "import matplotlib.pyplot as plt\n",
    "%matplotlib inline "
   ]
  },
  {
   "cell_type": "code",
   "execution_count": 2,
   "metadata": {},
   "outputs": [],
   "source": [
    "figure2_params = {'X':       10**6,         # shares\n",
    "                  'T':       5,             # days\n",
    "                  'N':       5,\n",
    "                  'sigma':   0.95,          # dollars per share per day sqrt\n",
    "                  'epsilon': 0.0625,        # dollars per share\n",
    "                  'gamma':   2.5*10**(-7),  # dollars per share squared\n",
    "                  'eta':     2.5*10**(-6),  # dollars per day\n",
    "                  'lbda':    2*10**(-6)}"
   ]
  },
  {
   "cell_type": "code",
   "execution_count": 3,
   "metadata": {},
   "outputs": [],
   "source": [
    "def _eta_tilde(eta, gamma, tau):\n",
    "    return eta*(1 - (gamma*tau)/(2*eta))\n",
    "\n",
    "\n",
    "def _kappa_tilde_squared(lbda, sigma, eta_tilde):\n",
    "    return lbda*(sigma**2)/eta_tilde\n",
    "\n",
    "\n",
    "def _kappa(kappa_tilde_squared, tau):\n",
    "    return np.arccosh(kappa_tilde_squared*(tau**2)/2 + 1)/tau\n",
    "\n",
    "\n",
    "def derived_params(eta, gamma, tau, lbda, sigma):\n",
    "    eta_tilde = _eta_tilde(eta, gamma, tau)\n",
    "    kappa_tilde_squared = _kappa_tilde_squared(lbda, sigma, eta_tilde)\n",
    "    kappa = _kappa(kappa_tilde_squared, tau)\n",
    "\n",
    "    return eta_tilde, kappa\n",
    "\n",
    "\n",
    "def almgren_chriss(big_x, big_n, big_t, sigma, lbda, eta, gamma):\n",
    "    tau = big_t/big_n\n",
    "    eta_tilde, kappa = derived_params(eta, gamma, tau, lbda, sigma)\n",
    "\n",
    "    t_j = np.linspace(0, big_t, big_n + 1)\n",
    "    inventory_values = big_x*np.sinh(kappa*(big_t - t_j))/np.sinh(kappa*big_t)\n",
    "\n",
    "    return pd.Series(inventory_values, t_j)"
   ]
  },
  {
   "cell_type": "code",
   "execution_count": 4,
   "metadata": {},
   "outputs": [
    {
     "data": {
      "text/plain": [
       "<matplotlib.axes._subplots.AxesSubplot at 0x1a442710>"
      ]
     },
     "execution_count": 4,
     "metadata": {},
     "output_type": "execute_result"
    },
    {
     "data": {
      "image/png": "[encoded data removed]",
      "text/plain": [
       "<matplotlib.figure.Figure at 0x5c1e198>"
      ]
     },
     "metadata": {},
     "output_type": "display_data"
    }
   ],
   "source": [
    "big_x = figure2_params['X']\n",
    "big_n = figure2_params['N']\n",
    "big_t = figure2_params['T']\n",
    "sigma = figure2_params['sigma']\n",
    "eta = figure2_params['eta']\n",
    "gamma = figure2_params['gamma']\n",
    "lbda = figure2_params['lbda']\n",
    "\n",
    "trajectory = almgren_chriss(big_x, big_n, big_t, sigma, lbda, eta, gamma)\n",
    "trajectory.plot('line')\n"
   ]
  },
  {
   "cell_type": "code",
   "execution_count": 73,
   "metadata": {},
   "outputs": [],
   "source": [
    "def costOpt(kappa, T):\n",
    "    return (0.25*kappa/((np.sinh(kappa*T))**2)*(2*kappa*T + np.sinh(2*kappa*T)))\n",
    "\n",
    "def riskOpt(kappa, T):\n",
    "    return (0.25*kappa/((np.sinh(kappa*T))**2)*(-2*kappa*T + np.sinh(2*kappa*T)))"
   ]
  },
  {
   "cell_type": "code",
   "execution_count": 74,
   "metadata": {},
   "outputs": [],
   "source": [
    "def costVWAP(kappa, T):\n",
    "    return (1/T)\n",
    "\n",
    "def riskVWAP(kappa, T):\n",
    "    return ((kappa**2)*T/3)"
   ]
  },
  {
   "cell_type": "code",
   "execution_count": 75,
   "metadata": {},
   "outputs": [
    {
     "data": {
      "text/plain": [
       "0.8462971345012562"
      ]
     },
     "execution_count": 75,
     "metadata": {},
     "output_type": "execute_result"
    }
   ],
   "source": [
    "tau = big_t/big_n\n",
    "kappa=derived_params(eta, gamma, tau, lbda, sigma)[1]\n",
    "kappa"
   ]
  },
  {
   "cell_type": "code",
   "execution_count": 84,
   "metadata": {},
   "outputs": [
    {
     "data": {
      "text/plain": [
       "Text(0.5,1,u'Efficient frontier in the Almgren Chriss model')"
      ]
     },
     "execution_count": 84,
     "metadata": {},
     "output_type": "execute_result"
    },
    {
     "data": {
      "image/png": "[encoded data removed]",
      "text/plain": [
       "<matplotlib.figure.Figure at 0x1ba66128>"
      ]
     },
     "metadata": {},
     "output_type": "display_data"
    }
   ],
   "source": [
    "time = np.linspace(0.2,5, 200)\n",
    "\n",
    "X= costOpt(kappa,time)\n",
    "Y= riskOpt(kappa,time)\n",
    "W= costVWAP(kappa,time)\n",
    "Z= riskVWAP(kappa,time)\n",
    "\n",
    "plt.plot(X,Y,label=\"Optimal\",c='r',lw=1.5)\n",
    "plt.plot(W,Z,label=\"Vwap\",c='b',lw=1.5)\n",
    "\n",
    "plt.xlabel(\"Risk\")\n",
    "plt.ylabel(\"Cost\")\n",
    "plt.legend(loc='best') \n",
    "plt.title(\"Efficient frontier in the Almgren Chriss model\", fontsize=14)\n"
   ]
  },
  {
   "cell_type": "code",
   "execution_count": null,
   "metadata": {},
   "outputs": [],
   "source": []
  },
  {
   "cell_type": "markdown",
   "metadata": {},
   "source": [
    "**Optimal Execution Horizon algorithm** \n",
    "\n",
    "Implementation d'un autre algorithme que j'ai trouvé online (peut être intéressant, peut être à jeter), je le laisse la pour le moment"
   ]
  },
  {
   "cell_type": "code",
   "execution_count": 12,
   "metadata": {},
   "outputs": [],
   "source": [
    "# PARAMETERS\n",
    "sigma=1000\n",
    "volSigma=10000\n",
    "S_S=10000\n",
    "zLambda=-1.644853627 #CDF(0.05) from the Std Normal dist\n",
    "vB=0.4\n",
    "phi=0.999\n",
    "m=1000"
   ]
  },
  {
   "cell_type": "code",
   "execution_count": 13,
   "metadata": {},
   "outputs": [],
   "source": [
    "def signum(int):\n",
    "    if(int < 0):return -1\n",
    "    elif(int > 0):return 1\n",
    "    else:return 0"
   ]
  },
  {
   "cell_type": "code",
   "execution_count": 14,
   "metadata": {},
   "outputs": [],
   "source": [
    "def getOI(v,m,phi,vB,sigma,volSigma):\n",
    "    return phi*(float(m-(2*vB-1)*abs(m))/v+2*vB-1)+ (1-phi)*(2*vB-1)"
   ]
  },
  {
   "cell_type": "code",
   "execution_count": 15,
   "metadata": {},
   "outputs": [],
   "source": [
    "def getBounds(m,phi,vB,sigma,volSigma,S_S,zLambda,k=0):\n",
    "    vB_l=float(signum(m)+1)/2-zLambda*sigma*abs(m)**0.5/ float(4*phi*(S_S+abs(m)*k)*volSigma**0.5)\n",
    "    vB_u=float(signum(m)+1)/2+zLambda*sigma*abs(m)**0.5/ float(4*phi*(S_S+abs(m)*k)*volSigma**0.5)\n",
    "    vB_z=(signum(m)*phi/(float(phi)-1)+1)/2.\n",
    "    return vB_l,vB_u,vB_z"
   ]
  },
  {
   "cell_type": "code",
   "execution_count": 16,
   "metadata": {},
   "outputs": [],
   "source": [
    "def minFoot(m,phi,vB,sigma,volSigma,S_S,zLambda,k=0):\n",
    "    \n",
    "    vB_l,vB_u,vB_z=getBounds(m,phi,vB,sigma,volSigma,S_S, zLambda,k)\n",
    "\n",
    " \n",
    "    if (2*vB-1)*abs(m)<m:\n",
    "    \n",
    "        v1=(2*phi*((2*vB-1)*abs(m)-m)*S_S*volSigma**0.5/float(zLambda*sigma))**(2./3)\n",
    "        oi=getOI(v1,m,phi,vB,sigma,volSigma)\n",
    "        if oi>0:\n",
    "            if vB<=vB_u: return v1\n",
    "            if vB>vB_u: return abs(m)\n",
    "    \n",
    "    elif (2*vB-1)*abs(m)>m:\n",
    "        \n",
    "        v2=(2*phi*(m-(2*vB-1)*abs(m))*S_S*volSigma**0.5/float(zLambda*sigma))**(2./3)\n",
    "        oi=getOI(v2,m,phi,vB,sigma,volSigma)\n",
    "        if oi<0:\n",
    "            if vB>=vB_l: return v2\n",
    "            if vB<vB_l: return abs(m)\n",
    "        \n",
    "        \n",
    "    elif (2*vB-1)*abs(m)==m: return abs(m)\n",
    "    \n",
    "    if vB>=vB_z: return phi*(abs(m)-m/float(2*vB-1))\n",
    "    if vB<vB_z: return abs(m)\n",
    "   \n",
    "         \n",
    " "
   ]
  },
  {
   "cell_type": "code",
   "execution_count": 17,
   "metadata": {},
   "outputs": [
    {
     "name": "stdout",
     "output_type": "stream",
     "text": [
      "5994.0\n"
     ]
    }
   ],
   "source": [
    "print (minFoot(m,phi,vB,sigma,volSigma,S_S,zLambda))"
   ]
  },
  {
   "cell_type": "markdown",
   "metadata": {},
   "source": [
    "**Example for getting minute data from the google finance API**"
   ]
  },
  {
   "cell_type": "code",
   "execution_count": 2,
   "metadata": {},
   "outputs": [],
   "source": [
    "import csv\n",
    "import datetime\n",
    "import re\n",
    "\n",
    "import pandas as pd\n",
    "import requests\n",
    "\n",
    "def get_google_finance_intraday(ticker, period=60, days=1):\n",
    "    \"\"\"\n",
    "    Retrieve intraday stock data from Google Finance.\n",
    "    Parameters\n",
    "    ----------\n",
    "    ticker : str\n",
    "        Company ticker symbol.\n",
    "    period : int\n",
    "        Interval between stock values in seconds.\n",
    "    days : int\n",
    "        Number of days of data to retrieve.\n",
    "    Returns\n",
    "    -------\n",
    "    df : pandas.DataFrame\n",
    "        DataFrame containing the opening price, high price, low price,\n",
    "        closing price, and volume. The index contains the times associated with\n",
    "        the retrieved price values.\n",
    "    \"\"\"\n",
    "\n",
    "    uri = 'http://www.google.com/finance/getprices' \\\n",
    "          '?i={period}&p={days}d&f=d,o,h,l,c,v&df=cpct&q={ticker}'.format(ticker=ticker,\n",
    "                                                                          period=period,\n",
    "                                                                          days=days)\n",
    "    page = requests.get(uri)\n",
    "    reader = csv.reader(page.content.splitlines())\n",
    "    columns = ['Open', 'High', 'Low', 'Close', 'Volume']\n",
    "    rows = []\n",
    "    times = []\n",
    "    for row in reader:\n",
    "        if re.match('^[a\\d]', row[0]):\n",
    "            if row[0].startswith('a'):\n",
    "                start = datetime.datetime.fromtimestamp(int(row[0][1:]))\n",
    "                times.append(start)\n",
    "            else:\n",
    "                times.append(start+datetime.timedelta(seconds=period*int(row[0])))\n",
    "            rows.append(map(float, row[1:]))\n",
    "    if len(rows):\n",
    "        return pd.DataFrame(rows, index=pd.DatetimeIndex(times, name='Date'),\n",
    "                            columns=columns)\n",
    "    else:\n",
    "        return pd.DataFrame(rows, index=pd.DatetimeIndex(times, name='Date'))"
   ]
  },
  {
   "cell_type": "code",
   "execution_count": 29,
   "metadata": {
    "scrolled": true
   },
   "outputs": [
    {
     "data": {
      "text/html": [
       "<div>\n",
       "<style scoped>\n",
       "    .dataframe tbody tr th:only-of-type {\n",
       "        vertical-align: middle;\n",
       "    }\n",
       "\n",
       "    .dataframe tbody tr th {\n",
       "        vertical-align: top;\n",
       "    }\n",
       "\n",
       "    .dataframe thead th {\n",
       "        text-align: right;\n",
       "    }\n",
       "</style>\n",
       "<table border=\"1\" class=\"dataframe\">\n",
       "  <thead>\n",
       "    <tr style=\"text-align: right;\">\n",
       "      <th></th>\n",
       "      <th>Open</th>\n",
       "      <th>High</th>\n",
       "      <th>Low</th>\n",
       "      <th>Close</th>\n",
       "      <th>Volume</th>\n",
       "      <th>VWAP</th>\n",
       "    </tr>\n",
       "    <tr>\n",
       "      <th>Date</th>\n",
       "      <th></th>\n",
       "      <th></th>\n",
       "      <th></th>\n",
       "      <th></th>\n",
       "      <th></th>\n",
       "      <th></th>\n",
       "    </tr>\n",
       "  </thead>\n",
       "  <tbody>\n",
       "    <tr>\n",
       "      <th>2018-04-12 09:01:00</th>\n",
       "      <td>26.78</td>\n",
       "      <td>26.86</td>\n",
       "      <td>26.78</td>\n",
       "      <td>26.86</td>\n",
       "      <td>351.0</td>\n",
       "      <td>26.820000</td>\n",
       "    </tr>\n",
       "    <tr>\n",
       "      <th>2018-04-12 09:06:00</th>\n",
       "      <td>26.76</td>\n",
       "      <td>26.76</td>\n",
       "      <td>26.74</td>\n",
       "      <td>26.76</td>\n",
       "      <td>367.0</td>\n",
       "      <td>26.784220</td>\n",
       "    </tr>\n",
       "    <tr>\n",
       "      <th>2018-04-12 09:07:00</th>\n",
       "      <td>26.72</td>\n",
       "      <td>26.72</td>\n",
       "      <td>26.72</td>\n",
       "      <td>26.72</td>\n",
       "      <td>154.0</td>\n",
       "      <td>26.772878</td>\n",
       "    </tr>\n",
       "    <tr>\n",
       "      <th>2018-04-12 09:08:00</th>\n",
       "      <td>26.74</td>\n",
       "      <td>26.74</td>\n",
       "      <td>26.74</td>\n",
       "      <td>26.74</td>\n",
       "      <td>30.0</td>\n",
       "      <td>26.771785</td>\n",
       "    </tr>\n",
       "    <tr>\n",
       "      <th>2018-04-12 09:10:00</th>\n",
       "      <td>26.70</td>\n",
       "      <td>26.70</td>\n",
       "      <td>26.70</td>\n",
       "      <td>26.70</td>\n",
       "      <td>90.0</td>\n",
       "      <td>26.765272</td>\n",
       "    </tr>\n",
       "  </tbody>\n",
       "</table>\n",
       "</div>"
      ],
      "text/plain": [
       "                      Open   High    Low  Close  Volume       VWAP\n",
       "Date                                                              \n",
       "2018-04-12 09:01:00  26.78  26.86  26.78  26.86   351.0  26.820000\n",
       "2018-04-12 09:06:00  26.76  26.76  26.74  26.76   367.0  26.784220\n",
       "2018-04-12 09:07:00  26.72  26.72  26.72  26.72   154.0  26.772878\n",
       "2018-04-12 09:08:00  26.74  26.74  26.74  26.74    30.0  26.771785\n",
       "2018-04-12 09:10:00  26.70  26.70  26.70  26.70    90.0  26.765272"
      ]
     },
     "execution_count": 29,
     "metadata": {},
     "output_type": "execute_result"
    }
   ],
   "source": [
    "f=get_google_finance_intraday('TKTT',5, 10)\n",
    "f[\"VWAP\"]=(f.Volume*(f.High+f.Low)/2).cumsum() / f.Volume.cumsum()\n",
    "f.head()"
   ]
  },
  {
   "cell_type": "code",
   "execution_count": 30,
   "metadata": {},
   "outputs": [
    {
     "data": {
      "text/html": [
       "<div>\n",
       "<style scoped>\n",
       "    .dataframe tbody tr th:only-of-type {\n",
       "        vertical-align: middle;\n",
       "    }\n",
       "\n",
       "    .dataframe tbody tr th {\n",
       "        vertical-align: top;\n",
       "    }\n",
       "\n",
       "    .dataframe thead th {\n",
       "        text-align: right;\n",
       "    }\n",
       "</style>\n",
       "<table border=\"1\" class=\"dataframe\">\n",
       "  <thead>\n",
       "    <tr style=\"text-align: right;\">\n",
       "      <th></th>\n",
       "      <th>Open</th>\n",
       "      <th>High</th>\n",
       "      <th>Low</th>\n",
       "      <th>Close</th>\n",
       "      <th>Volume</th>\n",
       "      <th>VWAP</th>\n",
       "    </tr>\n",
       "  </thead>\n",
       "  <tbody>\n",
       "    <tr>\n",
       "      <th>count</th>\n",
       "      <td>462.000000</td>\n",
       "      <td>462.000000</td>\n",
       "      <td>462.000000</td>\n",
       "      <td>462.000000</td>\n",
       "      <td>462.000000</td>\n",
       "      <td>462.000000</td>\n",
       "    </tr>\n",
       "    <tr>\n",
       "      <th>mean</th>\n",
       "      <td>26.255281</td>\n",
       "      <td>26.263420</td>\n",
       "      <td>26.249048</td>\n",
       "      <td>26.256494</td>\n",
       "      <td>756.790043</td>\n",
       "      <td>26.459612</td>\n",
       "    </tr>\n",
       "    <tr>\n",
       "      <th>std</th>\n",
       "      <td>0.327593</td>\n",
       "      <td>0.326644</td>\n",
       "      <td>0.328703</td>\n",
       "      <td>0.327481</td>\n",
       "      <td>2080.893669</td>\n",
       "      <td>0.282261</td>\n",
       "    </tr>\n",
       "    <tr>\n",
       "      <th>min</th>\n",
       "      <td>25.720000</td>\n",
       "      <td>25.720000</td>\n",
       "      <td>25.700000</td>\n",
       "      <td>25.700000</td>\n",
       "      <td>1.000000</td>\n",
       "      <td>26.176418</td>\n",
       "    </tr>\n",
       "    <tr>\n",
       "      <th>25%</th>\n",
       "      <td>25.985000</td>\n",
       "      <td>26.000000</td>\n",
       "      <td>25.980000</td>\n",
       "      <td>26.000000</td>\n",
       "      <td>115.500000</td>\n",
       "      <td>26.186592</td>\n",
       "    </tr>\n",
       "    <tr>\n",
       "      <th>50%</th>\n",
       "      <td>26.200000</td>\n",
       "      <td>26.200000</td>\n",
       "      <td>26.200000</td>\n",
       "      <td>26.200000</td>\n",
       "      <td>308.500000</td>\n",
       "      <td>26.299285</td>\n",
       "    </tr>\n",
       "    <tr>\n",
       "      <th>75%</th>\n",
       "      <td>26.440000</td>\n",
       "      <td>26.460000</td>\n",
       "      <td>26.440000</td>\n",
       "      <td>26.440000</td>\n",
       "      <td>686.250000</td>\n",
       "      <td>26.733662</td>\n",
       "    </tr>\n",
       "    <tr>\n",
       "      <th>max</th>\n",
       "      <td>27.200000</td>\n",
       "      <td>27.200000</td>\n",
       "      <td>27.180000</td>\n",
       "      <td>27.180000</td>\n",
       "      <td>31054.000000</td>\n",
       "      <td>26.950702</td>\n",
       "    </tr>\n",
       "  </tbody>\n",
       "</table>\n",
       "</div>"
      ],
      "text/plain": [
       "             Open        High         Low       Close        Volume  \\\n",
       "count  462.000000  462.000000  462.000000  462.000000    462.000000   \n",
       "mean    26.255281   26.263420   26.249048   26.256494    756.790043   \n",
       "std      0.327593    0.326644    0.328703    0.327481   2080.893669   \n",
       "min     25.720000   25.720000   25.700000   25.700000      1.000000   \n",
       "25%     25.985000   26.000000   25.980000   26.000000    115.500000   \n",
       "50%     26.200000   26.200000   26.200000   26.200000    308.500000   \n",
       "75%     26.440000   26.460000   26.440000   26.440000    686.250000   \n",
       "max     27.200000   27.200000   27.180000   27.180000  31054.000000   \n",
       "\n",
       "             VWAP  \n",
       "count  462.000000  \n",
       "mean    26.459612  \n",
       "std      0.282261  \n",
       "min     26.176418  \n",
       "25%     26.186592  \n",
       "50%     26.299285  \n",
       "75%     26.733662  \n",
       "max     26.950702  "
      ]
     },
     "execution_count": 30,
     "metadata": {},
     "output_type": "execute_result"
    }
   ],
   "source": [
    "f.describe()"
   ]
  },
  {
   "cell_type": "code",
   "execution_count": 31,
   "metadata": {},
   "outputs": [
    {
     "data": {
      "text/html": [
       "<div>\n",
       "<style scoped>\n",
       "    .dataframe tbody tr th:only-of-type {\n",
       "        vertical-align: middle;\n",
       "    }\n",
       "\n",
       "    .dataframe tbody tr th {\n",
       "        vertical-align: top;\n",
       "    }\n",
       "\n",
       "    .dataframe thead th {\n",
       "        text-align: right;\n",
       "    }\n",
       "</style>\n",
       "<table border=\"1\" class=\"dataframe\">\n",
       "  <thead>\n",
       "    <tr style=\"text-align: right;\">\n",
       "      <th></th>\n",
       "      <th>Open</th>\n",
       "      <th>High</th>\n",
       "      <th>Low</th>\n",
       "      <th>Close</th>\n",
       "      <th>Volume</th>\n",
       "      <th>VWAP</th>\n",
       "    </tr>\n",
       "  </thead>\n",
       "  <tbody>\n",
       "    <tr>\n",
       "      <th>count</th>\n",
       "      <td>462.000000</td>\n",
       "      <td>462.000000</td>\n",
       "      <td>462.000000</td>\n",
       "      <td>462.000000</td>\n",
       "      <td>462.000000</td>\n",
       "      <td>462.000000</td>\n",
       "    </tr>\n",
       "    <tr>\n",
       "      <th>mean</th>\n",
       "      <td>26.255281</td>\n",
       "      <td>26.263420</td>\n",
       "      <td>26.249048</td>\n",
       "      <td>26.256494</td>\n",
       "      <td>756.790043</td>\n",
       "      <td>26.459612</td>\n",
       "    </tr>\n",
       "    <tr>\n",
       "      <th>std</th>\n",
       "      <td>0.327593</td>\n",
       "      <td>0.326644</td>\n",
       "      <td>0.328703</td>\n",
       "      <td>0.327481</td>\n",
       "      <td>2080.893669</td>\n",
       "      <td>0.282261</td>\n",
       "    </tr>\n",
       "    <tr>\n",
       "      <th>min</th>\n",
       "      <td>25.720000</td>\n",
       "      <td>25.720000</td>\n",
       "      <td>25.700000</td>\n",
       "      <td>25.700000</td>\n",
       "      <td>1.000000</td>\n",
       "      <td>26.176418</td>\n",
       "    </tr>\n",
       "    <tr>\n",
       "      <th>25%</th>\n",
       "      <td>25.985000</td>\n",
       "      <td>26.000000</td>\n",
       "      <td>25.980000</td>\n",
       "      <td>26.000000</td>\n",
       "      <td>115.500000</td>\n",
       "      <td>26.186592</td>\n",
       "    </tr>\n",
       "    <tr>\n",
       "      <th>50%</th>\n",
       "      <td>26.200000</td>\n",
       "      <td>26.200000</td>\n",
       "      <td>26.200000</td>\n",
       "      <td>26.200000</td>\n",
       "      <td>308.500000</td>\n",
       "      <td>26.299285</td>\n",
       "    </tr>\n",
       "    <tr>\n",
       "      <th>75%</th>\n",
       "      <td>26.440000</td>\n",
       "      <td>26.460000</td>\n",
       "      <td>26.440000</td>\n",
       "      <td>26.440000</td>\n",
       "      <td>686.250000</td>\n",
       "      <td>26.733662</td>\n",
       "    </tr>\n",
       "    <tr>\n",
       "      <th>max</th>\n",
       "      <td>27.200000</td>\n",
       "      <td>27.200000</td>\n",
       "      <td>27.180000</td>\n",
       "      <td>27.180000</td>\n",
       "      <td>31054.000000</td>\n",
       "      <td>26.950702</td>\n",
       "    </tr>\n",
       "  </tbody>\n",
       "</table>\n",
       "</div>"
      ],
      "text/plain": [
       "             Open        High         Low       Close        Volume  \\\n",
       "count  462.000000  462.000000  462.000000  462.000000    462.000000   \n",
       "mean    26.255281   26.263420   26.249048   26.256494    756.790043   \n",
       "std      0.327593    0.326644    0.328703    0.327481   2080.893669   \n",
       "min     25.720000   25.720000   25.700000   25.700000      1.000000   \n",
       "25%     25.985000   26.000000   25.980000   26.000000    115.500000   \n",
       "50%     26.200000   26.200000   26.200000   26.200000    308.500000   \n",
       "75%     26.440000   26.460000   26.440000   26.440000    686.250000   \n",
       "max     27.200000   27.200000   27.180000   27.180000  31054.000000   \n",
       "\n",
       "             VWAP  \n",
       "count  462.000000  \n",
       "mean    26.459612  \n",
       "std      0.282261  \n",
       "min     26.176418  \n",
       "25%     26.186592  \n",
       "50%     26.299285  \n",
       "75%     26.733662  \n",
       "max     26.950702  "
      ]
     },
     "execution_count": 31,
     "metadata": {},
     "output_type": "execute_result"
    }
   ],
   "source": [
    "f.describe ()\n"
   ]
  },
  {
   "cell_type": "code",
   "execution_count": 28,
   "metadata": {},
   "outputs": [
    {
     "data": {
      "text/plain": [
       "[<matplotlib.lines.Line2D at 0x1fcf6518>]"
      ]
     },
     "execution_count": 28,
     "metadata": {},
     "output_type": "execute_result"
    },
    {
     "data": {
      "image/png": "[encoded data removed]",
      "text/plain": [
       "<matplotlib.figure.Figure at 0x1ff15710>"
      ]
     },
     "metadata": {},
     "output_type": "display_data"
    }
   ],
   "source": [
    "plt.plot( f['VWAP'] )"
   ]
  },
  {
   "cell_type": "code",
   "execution_count": null,
   "metadata": {},
   "outputs": [],
   "source": []
  },
  {
   "cell_type": "code",
   "execution_count": null,
   "metadata": {},
   "outputs": [],
   "source": []
  },
  {
   "cell_type": "code",
   "execution_count": null,
   "metadata": {},
   "outputs": [],
   "source": []
  },
  {
   "cell_type": "code",
   "execution_count": null,
   "metadata": {},
   "outputs": [],
   "source": []
  }
 ],
 "metadata": {
  "kernelspec": {
   "display_name": "Python 2",
   "language": "python",
   "name": "python2"
  },
  "language_info": {
   "codemirror_mode": {
    "name": "ipython",
    "version": 2
   },
   "file_extension": ".py",
   "mimetype": "text/x-python",
   "name": "python",
   "nbconvert_exporter": "python",
   "pygments_lexer": "ipython2",
   "version": "2.7.14"
  }
 },
 "nbformat": 4,
 "nbformat_minor": 2
}
